{
  "nbformat": 4,
  "nbformat_minor": 0,
  "metadata": {
    "colab": {
      "provenance": [],
      "authorship_tag": "ABX9TyNsk3FjapAsPHn67LcWW7M6",
      "include_colab_link": true
    },
    "kernelspec": {
      "name": "python3",
      "display_name": "Python 3"
    },
    "language_info": {
      "name": "python"
    }
  },
  "cells": [
    {
      "cell_type": "markdown",
      "metadata": {
        "id": "view-in-github",
        "colab_type": "text"
      },
      "source": [
        "<a href=\"https://colab.research.google.com/github/someonewholikelife/tools_of_ai/blob/main/lab_3.ipynb\" target=\"_parent\"><img src=\"https://colab.research.google.com/assets/colab-badge.svg\" alt=\"Open In Colab\"/></a>"
      ]
    },
    {
      "cell_type": "markdown",
      "source": [
        "# Классификация методом k ближайших соседей"
      ],
      "metadata": {
        "id": "NQMBTAjXrXoE"
      }
    },
    {
      "cell_type": "code",
      "execution_count": 1,
      "metadata": {
        "id": "ltPtes9RrRK1"
      },
      "outputs": [],
      "source": [
        "# Загружаем основные библиотеки\n",
        "from sklearn.datasets import load_digits\n",
        "import seaborn as sns\n",
        "import pandas as pd\n",
        "import numpy as np\n",
        "import matplotlib.pyplot as plt\n",
        "\n",
        "# Библиотеки, необходимые для обучения модели\n",
        "from sklearn.model_selection import train_test_split, cross_val_score, KFold, GridSearchCV\n",
        "from sklearn.metrics import accuracy_score, classification_report, confusion_matrix\n",
        "from sklearn.neighbors import KNeighborsClassifier"
      ]
    },
    {
      "cell_type": "code",
      "source": [
        "digits = load_digits()\n",
        "X_data = digits.data\n",
        "y_data = digits.target"
      ],
      "metadata": {
        "id": "ej-FPaXNrcFN"
      },
      "execution_count": 2,
      "outputs": []
    },
    {
      "cell_type": "code",
      "source": [
        "# Визуализируем первый элемент датасета\n",
        "plt.imshow(digits.images[0], cmap='gray', interpolation='nearest')\n",
        "print('Label выводимого изображения:', y_data[0])"
      ],
      "metadata": {
        "colab": {
          "base_uri": "https://localhost:8080/",
          "height": 282
        },
        "id": "rFKIpK-srh2B",
        "outputId": "7b2fba87-7bfb-4bb3-bf21-7d47ebd6833b"
      },
      "execution_count": 3,
      "outputs": [
        {
          "output_type": "stream",
          "name": "stdout",
          "text": [
            "Label выводимого изображения: 0\n"
          ]
        },
        {
          "output_type": "display_data",
          "data": {
            "text/plain": [
              "<Figure size 432x288 with 1 Axes>"
            ],
            "image/png": "[encoded data removed]"
          },
          "metadata": {
            "needs_background": "light"
          }
        }
      ]
    },
    {
      "cell_type": "code",
      "source": [
        "# Разобъем датасет на тренеровочную и тестовую выборки в отношении 67:33\n",
        "X_train, X_test, y_train, y_test = train_test_split(X_data, y_data, test_size=0.33, random_state=42)"
      ],
      "metadata": {
        "id": "0IQeh9K9rhzl"
      },
      "execution_count": 4,
      "outputs": []
    },
    {
      "cell_type": "code",
      "source": [
        "# Обучаем модель KNeighborsClassifier\n",
        "knn = KNeighborsClassifier()\n",
        "knn.fit(X_train, y_train)"
      ],
      "metadata": {
        "colab": {
          "base_uri": "https://localhost:8080/"
        },
        "id": "0gXGdfzGrhxE",
        "outputId": "27bd1e59-b30b-4ef1-93f2-9ea605c5641e"
      },
      "execution_count": 5,
      "outputs": [
        {
          "output_type": "execute_result",
          "data": {
            "text/plain": [
              "KNeighborsClassifier()"
            ]
          },
          "metadata": {},
          "execution_count": 5
        }
      ]
    },
    {
      "cell_type": "code",
      "source": [
        "# Предсказываем результаты на тестовой выборке\n",
        "y_test_predict = knn.predict(X_test)"
      ],
      "metadata": {
        "id": "D1Ku5PZ_rhur"
      },
      "execution_count": 6,
      "outputs": []
    },
    {
      "cell_type": "code",
      "source": [
        "# Точность модели\n",
        "acc = accuracy_score(y_test, y_test_predict)\n",
        "print(f'Точность модели: {acc:.3%}')"
      ],
      "metadata": {
        "colab": {
          "base_uri": "https://localhost:8080/"
        },
        "id": "aZEw3azYrhsZ",
        "outputId": "301dd218-4d96-438a-c7ae-52be0a4e97eb"
      },
      "execution_count": 7,
      "outputs": [
        {
          "output_type": "stream",
          "name": "stdout",
          "text": [
            "Точность модели: 99.327%\n"
          ]
        }
      ]
    },
    {
      "cell_type": "code",
      "source": [
        "# Основные метрики \n",
        "print(classification_report(y_test,y_test_predict))"
      ],
      "metadata": {
        "colab": {
          "base_uri": "https://localhost:8080/"
        },
        "id": "w4t0sGK0rhp8",
        "outputId": "1f18faee-dc91-4e5f-8156-2ffc363b7bf4"
      },
      "execution_count": 8,
      "outputs": [
        {
          "output_type": "stream",
          "name": "stdout",
          "text": [
            "              precision    recall  f1-score   support\n",
            "\n",
            "           0       1.00      1.00      1.00        55\n",
            "           1       1.00      1.00      1.00        55\n",
            "           2       1.00      1.00      1.00        52\n",
            "           3       0.98      1.00      0.99        56\n",
            "           4       0.98      1.00      0.99        64\n",
            "           5       0.99      0.99      0.99        73\n",
            "           6       1.00      1.00      1.00        57\n",
            "           7       1.00      1.00      1.00        62\n",
            "           8       1.00      1.00      1.00        52\n",
            "           9       0.98      0.96      0.97        68\n",
            "\n",
            "    accuracy                           0.99       594\n",
            "   macro avg       0.99      0.99      0.99       594\n",
            "weighted avg       0.99      0.99      0.99       594\n",
            "\n"
          ]
        }
      ]
    },
    {
      "cell_type": "code",
      "source": [
        "# Матрица путаницы\n",
        "plt.figure(figsize = (8,6)) \n",
        "knc_cm = confusion_matrix(y_test,y_test_predict)\n",
        "sns.heatmap(knc_cm,annot=True,fmt='d',linewidth=3)"
      ],
      "metadata": {
        "colab": {
          "base_uri": "https://localhost:8080/",
          "height": 391
        },
        "id": "uR-Y3KnSrhnN",
        "outputId": "ac48b74e-3a72-4143-fcc7-a0185a26d984"
      },
      "execution_count": 9,
      "outputs": [
        {
          "output_type": "execute_result",
          "data": {
            "text/plain": [
              "<matplotlib.axes._subplots.AxesSubplot at 0x7fbcd324cb20>"
            ]
          },
          "metadata": {},
          "execution_count": 9
        },
        {
          "output_type": "display_data",
          "data": {
            "text/plain": [
              "<Figure size 576x432 with 2 Axes>"
            ],
            "image/png": "[encoded data removed]"
          },
          "metadata": {
            "needs_background": "light"
          }
        }
      ]
    },
    {
      "cell_type": "code",
      "source": [
        "# K-hold перекрестная проверка\n",
        "kfold = KFold(n_splits=10, random_state=42, shuffle=True)\n",
        "scores = cross_val_score(estimator=knn, X=digits.data, y=digits.target, cv=kfold)\n",
        "scores"
      ],
      "metadata": {
        "colab": {
          "base_uri": "https://localhost:8080/"
        },
        "id": "VE7onaxHujlS",
        "outputId": "37540920-fe14-42b8-fc3d-abc9ea5c3eef"
      },
      "execution_count": 22,
      "outputs": [
        {
          "output_type": "execute_result",
          "data": {
            "text/plain": [
              "array([0.98888889, 0.98888889, 0.99444444, 0.99444444, 0.97777778,\n",
              "       0.97777778, 0.99444444, 1.        , 1.        , 0.96648045])"
            ]
          },
          "metadata": {},
          "execution_count": 22
        }
      ]
    },
    {
      "cell_type": "code",
      "source": [
        "print(f'Tочность k-Fold модели: {scores.mean():.2%}')\n",
        "print(f'Стандартное отклонение точности: {scores.std():.2%}')"
      ],
      "metadata": {
        "colab": {
          "base_uri": "https://localhost:8080/"
        },
        "id": "rHPdEsCCujjH",
        "outputId": "e7535971-873b-4c7d-bce9-ff379c2bea79"
      },
      "execution_count": 23,
      "outputs": [
        {
          "output_type": "stream",
          "name": "stdout",
          "text": [
            "Tочность k-Fold модели: 98.83%\n",
            "Стандартное отклонение точности: 1.04%\n"
          ]
        }
      ]
    },
    {
      "cell_type": "code",
      "source": [
        "# Подбор параметров модели\n",
        "knc_params={\n",
        "    'algorithm':['auto', 'ball_tree', 'kd_tree', 'brute'],\n",
        "    'weights':['uniform', 'distance'],\n",
        "    'n_neighbors':range(1,10)\n",
        "}"
      ],
      "metadata": {
        "id": "27ayt_1Bujga"
      },
      "execution_count": 24,
      "outputs": []
    },
    {
      "cell_type": "code",
      "source": [
        "# Нахождение параметров модели по сетке\n",
        "knc = KNeighborsClassifier()\n",
        "knc_GS = GridSearchCV(knc,knc_params,cv=5)\n",
        "knc_GS.fit(X_train,y_train)"
      ],
      "metadata": {
        "colab": {
          "base_uri": "https://localhost:8080/"
        },
        "id": "1fvLRn9Vujd6",
        "outputId": "0eb9ceb8-345f-49a9-e76e-192521682381"
      },
      "execution_count": 25,
      "outputs": [
        {
          "output_type": "execute_result",
          "data": {
            "text/plain": [
              "GridSearchCV(cv=5, estimator=KNeighborsClassifier(),\n",
              "             param_grid={'algorithm': ['auto', 'ball_tree', 'kd_tree', 'brute'],\n",
              "                         'n_neighbors': range(1, 10),\n",
              "                         'weights': ['uniform', 'distance']})"
            ]
          },
          "metadata": {},
          "execution_count": 25
        }
      ]
    },
    {
      "cell_type": "code",
      "source": [
        "print('Лучшие параметры:',knc_GS.best_params_)"
      ],
      "metadata": {
        "colab": {
          "base_uri": "https://localhost:8080/"
        },
        "id": "n99aI2u4vuNV",
        "outputId": "83f2bb6f-1689-47b2-a2fb-c7fd7b7af1c6"
      },
      "execution_count": 26,
      "outputs": [
        {
          "output_type": "stream",
          "name": "stdout",
          "text": [
            "Лучшие параметры: {'algorithm': 'auto', 'n_neighbors': 1, 'weights': 'uniform'}\n"
          ]
        }
      ]
    },
    {
      "cell_type": "code",
      "source": [
        "# Обучение модели с ранее найденными параметрами\n",
        "knc_cv = KNeighborsClassifier(algorithm= 'auto', n_neighbors= 1, weights= 'uniform')\n",
        "knc_cv.fit(X_train,y_train)"
      ],
      "metadata": {
        "colab": {
          "base_uri": "https://localhost:8080/"
        },
        "id": "al5Jn7UiujZc",
        "outputId": "942491cc-4b83-47ff-e0c1-6b953d9c80ab"
      },
      "execution_count": 27,
      "outputs": [
        {
          "output_type": "execute_result",
          "data": {
            "text/plain": [
              "KNeighborsClassifier(n_neighbors=1)"
            ]
          },
          "metadata": {},
          "execution_count": 27
        }
      ]
    },
    {
      "cell_type": "code",
      "source": [
        "y_test_predict_cv = knc_cv.predict(X_test)\n",
        "acc = accuracy_score(y_test,y_test_predict_cv)\n",
        "print(f'Средняя точность: {acc:.3%}')"
      ],
      "metadata": {
        "colab": {
          "base_uri": "https://localhost:8080/"
        },
        "id": "u87dXR9vujW6",
        "outputId": "f8d8e304-3e67-456d-f9b7-20d4c61b6a53"
      },
      "execution_count": 28,
      "outputs": [
        {
          "output_type": "stream",
          "name": "stdout",
          "text": [
            "Средняя точность: 98.485%\n"
          ]
        }
      ]
    },
    {
      "cell_type": "code",
      "source": [
        "print(classification_report(y_test,y_test_predict_cv))"
      ],
      "metadata": {
        "colab": {
          "base_uri": "https://localhost:8080/"
        },
        "id": "N0CdrHe1ujUg",
        "outputId": "653b1edd-a406-47e8-8101-9ab374a3c975"
      },
      "execution_count": 29,
      "outputs": [
        {
          "output_type": "stream",
          "name": "stdout",
          "text": [
            "              precision    recall  f1-score   support\n",
            "\n",
            "           0       1.00      1.00      1.00        55\n",
            "           1       0.96      1.00      0.98        55\n",
            "           2       1.00      1.00      1.00        52\n",
            "           3       0.96      0.98      0.97        56\n",
            "           4       0.98      0.98      0.98        64\n",
            "           5       1.00      0.99      0.99        73\n",
            "           6       1.00      1.00      1.00        57\n",
            "           7       1.00      0.98      0.99        62\n",
            "           8       0.98      0.96      0.97        52\n",
            "           9       0.96      0.96      0.96        68\n",
            "\n",
            "    accuracy                           0.98       594\n",
            "   macro avg       0.99      0.99      0.99       594\n",
            "weighted avg       0.98      0.98      0.98       594\n",
            "\n"
          ]
        }
      ]
    },
    {
      "cell_type": "code",
      "source": [
        "plt.figure(figsize = (8,6)) \n",
        "knc_cm = confusion_matrix(y_test,y_test_predict_cv)\n",
        "sns.heatmap(knc_cm,annot=True,fmt='d',linewidth=3)"
      ],
      "metadata": {
        "colab": {
          "base_uri": "https://localhost:8080/",
          "height": 391
        },
        "id": "S6XPgG9_ujRx",
        "outputId": "2248f135-2a3f-432a-dc5c-e9413dfff028"
      },
      "execution_count": 30,
      "outputs": [
        {
          "output_type": "execute_result",
          "data": {
            "text/plain": [
              "<matplotlib.axes._subplots.AxesSubplot at 0x7fbcd31f9430>"
            ]
          },
          "metadata": {},
          "execution_count": 30
        },
        {
          "output_type": "display_data",
          "data": {
            "text/plain": [
              "<Figure size 576x432 with 2 Axes>"
            ],
            "image/png": "[encoded data removed]"
          },
          "metadata": {
            "needs_background": "light"
          }
        }
      ]
    },
    {
      "cell_type": "markdown",
      "source": [
        "Лучшей моделью выступает модель без настройки гиперпараметров. Она показывает точность 99.327%"
      ],
      "metadata": {
        "id": "_EDW-mkZv_rJ"
      }
    },
    {
      "cell_type": "code",
      "source": [],
      "metadata": {
        "id": "uVugaQj3wdXq"
      },
      "execution_count": null,
      "outputs": []
    }
  ]
}